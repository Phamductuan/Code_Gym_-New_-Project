{
 "cells": [
  {
   "cell_type": "code",
   "execution_count": 1,
   "id": "9d698cf9",
   "metadata": {},
   "outputs": [
    {
     "name": "stdout",
     "output_type": "stream",
     "text": [
      "**********************\n",
      "* Name: Pham Duc Tuan*\n",
      "* Center: Code Gym*****\n",
      "* Course: Python Fundamentals* \n",
      "*******************************\n"
     ]
    }
   ],
   "source": [
    "print(\"**********************\")\n",
    "print(\"* Name: Pham Duc Tuan*\")\n",
    "print(\"* Center: Code Gym*****\")\n",
    "print(\"* Course: Python Fundamentals* \")\n",
    "print(\"*******************************\")"
   ]
  },
  {
   "cell_type": "code",
   "execution_count": null,
   "id": "7b9f5db7",
   "metadata": {},
   "outputs": [],
   "source": []
  }
 ],
 "metadata": {
  "kernelspec": {
   "display_name": "Python 3 (ipykernel)",
   "language": "python",
   "name": "python3"
  },
  "language_info": {
   "codemirror_mode": {
    "name": "ipython",
    "version": 3
   },
   "file_extension": ".py",
   "mimetype": "text/x-python",
   "name": "python",
   "nbconvert_exporter": "python",
   "pygments_lexer": "ipython3",
   "version": "3.9.6"
  }
 },
 "nbformat": 4,
 "nbformat_minor": 5
}
